{
 "cells": [
  {
   "cell_type": "markdown",
   "id": "d0890fb7-10d7-4b20-8087-fb31372cdfc5",
   "metadata": {},
   "source": [
    "Create a variable named name and assign your full name to it as a string. How would you print the\n",
    "value of this variable?"
   ]
  },
  {
   "cell_type": "code",
   "execution_count": 1,
   "id": "b4c510b1-7286-4cf6-8a3a-8f8e865dcbdd",
   "metadata": {},
   "outputs": [],
   "source": [
    "name = 'Abhishek Dhoundiyal'"
   ]
  },
  {
   "cell_type": "code",
   "execution_count": 3,
   "id": "cde03a41-734c-46a4-a06a-100cf0be750f",
   "metadata": {},
   "outputs": [
    {
     "name": "stdout",
     "output_type": "stream",
     "text": [
      "Abhishek Dhoundiyal\n"
     ]
    }
   ],
   "source": [
    "print(name)"
   ]
  },
  {
   "cell_type": "code",
   "execution_count": null,
   "id": "4686b61e-5379-4cd9-b56b-146f72ca4b05",
   "metadata": {},
   "outputs": [],
   "source": []
  }
 ],
 "metadata": {
  "kernelspec": {
   "display_name": "Python 3 (ipykernel)",
   "language": "python",
   "name": "python3"
  },
  "language_info": {
   "codemirror_mode": {
    "name": "ipython",
    "version": 3
   },
   "file_extension": ".py",
   "mimetype": "text/x-python",
   "name": "python",
   "nbconvert_exporter": "python",
   "pygments_lexer": "ipython3",
   "version": "3.10.8"
  }
 },
 "nbformat": 4,
 "nbformat_minor": 5
}
