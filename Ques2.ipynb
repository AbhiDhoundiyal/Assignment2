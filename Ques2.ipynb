{
 "cells": [
  {
   "cell_type": "markdown",
   "id": "33e08925-bb0e-48b5-acce-38f3b493d42b",
   "metadata": {},
   "source": [
    "What are variables in Python? How do you declare and assign values to variables?"
   ]
  },
  {
   "cell_type": "markdown",
   "id": "6e7957c1-6c38-406e-a86b-67c81c715a98",
   "metadata": {},
   "source": [
    "variables are used to store and manipulate data. They act as named containers that hold values, such as numbers, strings, or other objects. You can assign values to variables and then refer to those values using the variable name throughout your code."
   ]
  },
  {
   "cell_type": "code",
   "execution_count": 6,
   "id": "c95ba0d4-c86e-4c76-ac3d-1f82cdb88924",
   "metadata": {},
   "outputs": [],
   "source": [
    "#To declare a variable in Python, you simply choose a name for the variable and use the assignment operator (=) to assign a value to it. Here's an example:\n",
    "\n",
    "\n",
    "# Variable declaration and assignment\n",
    "age = 25\n",
    "name = \"John\"\n"
   ]
  },
  {
   "cell_type": "code",
   "execution_count": 5,
   "id": "6840858a-0df5-4063-8de0-340c679e08c6",
   "metadata": {},
   "outputs": [],
   "source": [
    "#You can also assign new values to variables at any point in your code:\n",
    "\n",
    "\n",
    "age = 25  # Initial assignment\n",
    "age = 30  # Reassignment\n"
   ]
  },
  {
   "cell_type": "code",
   "execution_count": 7,
   "id": "04a3cd3e-9a4a-47ce-a4cd-d42ad31621fe",
   "metadata": {},
   "outputs": [],
   "source": [
    "#Variables can also be assigned the result of expressions or computations:\n",
    "\n",
    "x = 5\n",
    "y = 3\n",
    "result = x + y  # The value of result will be 8\n"
   ]
  },
  {
   "cell_type": "code",
   "execution_count": null,
   "id": "a161d3f7-8779-4bf9-bb19-1e2003edeeab",
   "metadata": {},
   "outputs": [],
   "source": []
  }
 ],
 "metadata": {
  "kernelspec": {
   "display_name": "Python 3 (ipykernel)",
   "language": "python",
   "name": "python3"
  },
  "language_info": {
   "codemirror_mode": {
    "name": "ipython",
    "version": 3
   },
   "file_extension": ".py",
   "mimetype": "text/x-python",
   "name": "python",
   "nbconvert_exporter": "python",
   "pygments_lexer": "ipython3",
   "version": "3.10.8"
  }
 },
 "nbformat": 4,
 "nbformat_minor": 5
}
