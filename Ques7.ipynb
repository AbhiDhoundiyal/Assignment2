{
 "cells": [
  {
   "cell_type": "markdown",
   "id": "79981d89-24b2-45ad-a5f3-7073c7a21ece",
   "metadata": {},
   "source": [
    "What is the correct way to declare a variable named age and assign the value 25 to it?"
   ]
  },
  {
   "cell_type": "markdown",
   "id": "bb1ea067-6abe-497a-bdca-471db96f2492",
   "metadata": {},
   "source": [
    "To assign the value 25 to a variable named age\n"
   ]
  },
  {
   "cell_type": "code",
   "execution_count": 2,
   "id": "a66c302f-3def-4a59-8272-8c8bcdd11ddc",
   "metadata": {},
   "outputs": [],
   "source": [
    "age = 25\n"
   ]
  },
  {
   "cell_type": "code",
   "execution_count": 3,
   "id": "abb445dc-39b4-42b9-ab71-773448028ff0",
   "metadata": {},
   "outputs": [
    {
     "data": {
      "text/plain": [
       "25"
      ]
     },
     "execution_count": 3,
     "metadata": {},
     "output_type": "execute_result"
    }
   ],
   "source": [
    "age"
   ]
  },
  {
   "cell_type": "code",
   "execution_count": null,
   "id": "0f7652fb-c4d2-4a7b-bec8-4f4b225ddbc5",
   "metadata": {},
   "outputs": [],
   "source": []
  }
 ],
 "metadata": {
  "kernelspec": {
   "display_name": "Python 3 (ipykernel)",
   "language": "python",
   "name": "python3"
  },
  "language_info": {
   "codemirror_mode": {
    "name": "ipython",
    "version": 3
   },
   "file_extension": ".py",
   "mimetype": "text/x-python",
   "name": "python",
   "nbconvert_exporter": "python",
   "pygments_lexer": "ipython3",
   "version": "3.10.8"
  }
 },
 "nbformat": 4,
 "nbformat_minor": 5
}
