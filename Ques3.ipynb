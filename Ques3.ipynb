{
 "cells": [
  {
   "cell_type": "markdown",
   "id": "2fbce44a-fdc2-44bd-bb6c-d8a38ef34075",
   "metadata": {},
   "source": [
    "How do you convert one data type to another in Python?"
   ]
  },
  {
   "cell_type": "markdown",
   "id": "d1c5b9e2-0cca-45c6-b18c-8a6c12dda22e",
   "metadata": {},
   "source": [
    "In Python, you can convert one data type to another using type casting or conversion functions. Here are some common data types and their corresponding conversion functions:"
   ]
  },
  {
   "cell_type": "code",
   "execution_count": 6,
   "id": "4dcc69f2-fb0c-4f5b-9c83-ad64cfed6e92",
   "metadata": {},
   "outputs": [],
   "source": [
    "Integer: int()\n",
    "x = int(3.14) #converts the float value 3.14 to an integer."
   ]
  },
  {
   "cell_type": "code",
   "execution_count": 7,
   "id": "6aed6b50-cca5-445c-99a7-065e2fc051e8",
   "metadata": {},
   "outputs": [],
   "source": [
    "Float: float()\n",
    "Example: x = float(\"3.14\") #converts the string \"3.14\" to a float.\n"
   ]
  },
  {
   "cell_type": "code",
   "execution_count": 8,
   "id": "0b25bf77-c151-4bfe-a872-893982f5d6c7",
   "metadata": {},
   "outputs": [],
   "source": [
    "String: str()\n",
    "Example: x = str(42) #converts the integer 42 to a string."
   ]
  },
  {
   "cell_type": "code",
   "execution_count": 9,
   "id": "bf0b5960-5a21-45f2-a9e1-4e9ad7028b92",
   "metadata": {},
   "outputs": [],
   "source": [
    "Boolean: bool()\n",
    "Example: x = bool(0) #converts the integer 0 to a boolean (False)."
   ]
  },
  {
   "cell_type": "code",
   "execution_count": 10,
   "id": "b6235996-2017-476a-8fa0-99f383cf9359",
   "metadata": {},
   "outputs": [],
   "source": [
    "List: list()\n",
    "Example: x = list((1, 2, 3)) #converts the tuple (1, 2, 3) to a list."
   ]
  },
  {
   "cell_type": "code",
   "execution_count": 11,
   "id": "bcd01f12-d06d-4bfc-a028-84ef63f43f93",
   "metadata": {},
   "outputs": [],
   "source": [
    "Tuple: tuple()\n",
    "Example: x = tuple([1, 2, 3]) #converts the list [1, 2, 3] to a tuple."
   ]
  },
  {
   "cell_type": "code",
   "execution_count": 12,
   "id": "b5e40ac0-e9b4-46bd-8b83-64733c40afac",
   "metadata": {},
   "outputs": [],
   "source": [
    "Set: set()\n",
    "Example: x = set([1, 2, 3]) #converts the list [1, 2, 3] to a set."
   ]
  },
  {
   "cell_type": "code",
   "execution_count": 13,
   "id": "ef675cd9-cad5-440e-a9da-4781ae8fcd37",
   "metadata": {},
   "outputs": [],
   "source": [
    "Dictionary: dict()\n",
    "Example: x = dict([(1, 'one'), (2, 'two')]) #converts the list of tuples to a dictionary."
   ]
  },
  {
   "cell_type": "code",
   "execution_count": null,
   "id": "7329bcb2-6112-404b-b995-e07163fc0ecc",
   "metadata": {},
   "outputs": [],
   "source": []
  }
 ],
 "metadata": {
  "kernelspec": {
   "display_name": "Python 3 (ipykernel)",
   "language": "python",
   "name": "python3"
  },
  "language_info": {
   "codemirror_mode": {
    "name": "ipython",
    "version": 3
   },
   "file_extension": ".py",
   "mimetype": "text/x-python",
   "name": "python",
   "nbconvert_exporter": "python",
   "pygments_lexer": "ipython3",
   "version": "3.10.8"
  }
 },
 "nbformat": 4,
 "nbformat_minor": 5
}
