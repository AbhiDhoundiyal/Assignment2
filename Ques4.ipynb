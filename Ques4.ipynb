{
 "cells": [
  {
   "cell_type": "code",
   "execution_count": null,
   "id": "c90ae3e4-efa9-46b5-b2b7-a6aa46a8f656",
   "metadata": {},
   "outputs": [],
   "source": [
    "How do you write and execute a Python script from the command line?"
   ]
  },
  {
   "cell_type": "raw",
   "id": "bcf13301-faf2-4af9-ae8a-16d2a6823c34",
   "metadata": {},
   "source": [
    "To write and execute a Python script from the command line, you can follow these steps:\n",
    "\n",
    "1.Open a text editor and create a new file. Save it with a .py extension. For example, you can use a text editor like Notepad (Windows), TextEdit (Mac), or any other code editor such as Visual Studio Code, Atom, or Sublime Text.\n",
    "\n",
    "2. Write your Python code in the newly created file. For example, let's create a simple script that prints \"Hello, World!\":"
   ]
  },
  {
   "cell_type": "code",
   "execution_count": 3,
   "id": "4ef27107-7cca-45bb-b9ef-c54369551911",
   "metadata": {},
   "outputs": [
    {
     "name": "stdout",
     "output_type": "stream",
     "text": [
      "Hello, World!\n"
     ]
    }
   ],
   "source": [
    "print(\"Hello, World!\")\n"
   ]
  },
  {
   "cell_type": "raw",
   "id": "ad41b97e-3bd3-4650-8903-341fc9bdc0ee",
   "metadata": {},
   "source": [
    "3. Save the file with a .py extension. Choose a descriptive name for your script, such as hello_world.py.\n",
    "\n",
    "4. Open the command line or terminal on your operating system.\n",
    "\n",
    "5. Navigate to the directory where you saved your Python script using the cd (change directory) command. For example, if your script is saved on the desktop, you would navigate to the desktop directory using:\n",
    "cd Desktop\n",
    "\n",
    "6. Once you're in the correct directory, you can execute the Python script by typing python followed by the script's filename. For example:\n",
    "\n",
    "python hello_world.py\n",
    "\n",
    "7. Press Enter to execute the command. The output of the script, \"Hello, World!\", should be displayed in the command line.\n",
    "\n",
    "8. That's it! You have successfully written and executed a Python script from the command line."
   ]
  },
  {
   "cell_type": "code",
   "execution_count": null,
   "id": "6857fd25-10d8-4f94-8525-e516c2f9ecd6",
   "metadata": {},
   "outputs": [],
   "source": []
  },
  {
   "cell_type": "code",
   "execution_count": null,
   "id": "08c3e35a-c2ad-45d1-936b-e4c4bb12c7a5",
   "metadata": {},
   "outputs": [],
   "source": []
  }
 ],
 "metadata": {
  "kernelspec": {
   "display_name": "Python 3 (ipykernel)",
   "language": "python",
   "name": "python3"
  },
  "language_info": {
   "codemirror_mode": {
    "name": "ipython",
    "version": 3
   },
   "file_extension": ".py",
   "mimetype": "text/x-python",
   "name": "python",
   "nbconvert_exporter": "python",
   "pygments_lexer": "ipython3",
   "version": "3.10.8"
  }
 },
 "nbformat": 4,
 "nbformat_minor": 5
}
