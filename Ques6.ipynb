{
 "cells": [
  {
   "cell_type": "markdown",
   "id": "9f7bfba9-8d2b-4d3b-9550-c06b3a072b96",
   "metadata": {},
   "source": [
    "What is a complex number in mathematics, and how is it represented in Python?"
   ]
  },
  {
   "cell_type": "markdown",
   "id": "5142ff25-d0bf-48fe-bd0f-b36867a11e0c",
   "metadata": {},
   "source": [
    "In Python, complex numbers can be represented using the built-in complex data type. The complex type allows you to create complex numbers by specifying the real and imaginary parts. Here's an example:"
   ]
  },
  {
   "cell_type": "code",
   "execution_count": 2,
   "id": "ee1952f8-df0c-4b13-9d8e-e4b7aa41ab91",
   "metadata": {},
   "outputs": [
    {
     "name": "stdout",
     "output_type": "stream",
     "text": [
      "(2+3j)\n"
     ]
    }
   ],
   "source": [
    "# Creating a complex number\n",
    "z = 2 + 3j\n",
    "print(z)  # Output: (2+3j)\n"
   ]
  },
  {
   "cell_type": "code",
   "execution_count": null,
   "id": "4cc1daac-cec8-4d57-b294-1e2f0c924755",
   "metadata": {},
   "outputs": [],
   "source": []
  }
 ],
 "metadata": {
  "kernelspec": {
   "display_name": "Python 3 (ipykernel)",
   "language": "python",
   "name": "python3"
  },
  "language_info": {
   "codemirror_mode": {
    "name": "ipython",
    "version": 3
   },
   "file_extension": ".py",
   "mimetype": "text/x-python",
   "name": "python",
   "nbconvert_exporter": "python",
   "pygments_lexer": "ipython3",
   "version": "3.10.8"
  }
 },
 "nbformat": 4,
 "nbformat_minor": 5
}
