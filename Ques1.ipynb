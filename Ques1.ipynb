{
 "cells": [
  {
   "cell_type": "code",
   "execution_count": 2,
   "id": "9cc72e27-b683-4891-8fb4-667c21f09058",
   "metadata": {},
   "outputs": [],
   "source": [
    "#How do you comment code in Python? What are the different types of comments?"
   ]
  },
  {
   "cell_type": "markdown",
   "id": "b7341552-7509-4577-9aeb-6373e5ad0cb4",
   "metadata": {},
   "source": [
    "1. Single-line comments: To add a comment that spans only one line, you can use the hash character (#). Anything after the # symbol on the same line is considered a comment and is ignored by the Python interpreter. Here's an example:python\n"
   ]
  },
  {
   "cell_type": "code",
   "execution_count": 7,
   "id": "f45b45a9-ea18-4d04-9c57-15ce07939cd5",
   "metadata": {},
   "outputs": [
    {
     "name": "stdout",
     "output_type": "stream",
     "text": [
      "Hello, World!\n"
     ]
    }
   ],
   "source": [
    "# This is a single-line comment\n",
    "print(\"Hello, World!\")  # This is another comment"
   ]
  },
  {
   "cell_type": "code",
   "execution_count": 13,
   "id": "b1b3f099-e5bf-4c54-b26e-8b52eee6a128",
   "metadata": {},
   "outputs": [],
   "source": [
    "#Multi line comment"
   ]
  },
  {
   "cell_type": "markdown",
   "id": "9de3648d-8a31-4cff-847f-cf066d85866e",
   "metadata": {},
   "source": [
    "2. Multi-line comments: To add comments press Triple quotes (''' or \"\"\"): You can enclose your comment within triple quotes to create a multi-line string."
   ]
  },
  {
   "cell_type": "code",
   "execution_count": 9,
   "id": "5e5d8dd8-c58f-42e7-a1c7-bf7f5694e957",
   "metadata": {},
   "outputs": [
    {
     "name": "stdout",
     "output_type": "stream",
     "text": [
      "Hello, welcome to the PWSkills!\n"
     ]
    }
   ],
   "source": [
    "'''\n",
    "This is a\n",
    "multi-line comment\n",
    "'''\n",
    "print(\"Hello, welcome to the PWSkills!\")"
   ]
  },
  {
   "cell_type": "code",
   "execution_count": 14,
   "id": "8e7c5402-5e6b-4f95-9d25-2979bb718eba",
   "metadata": {},
   "outputs": [],
   "source": [
    "#Backslash"
   ]
  },
  {
   "cell_type": "markdown",
   "id": "750a5c01-d731-4f89-b238-dd721870d52c",
   "metadata": {},
   "source": [
    "3. Backslash ( \\ ) at the end of each line: By using a backslash at the end of each line, you can continue the comment to the next line."
   ]
  },
  {
   "cell_type": "code",
   "execution_count": 18,
   "id": "f5d952f8-497d-40c4-9975-80d5e5a2c05f",
   "metadata": {},
   "outputs": [
    {
     "name": "stdout",
     "output_type": "stream",
     "text": [
      "Nice to meet you\n"
     ]
    }
   ],
   "source": [
    "# This is a \\\n",
    "# multi-line \\\n",
    "# comment\n",
    "print(\"Nice to meet you\")"
   ]
  },
  {
   "cell_type": "code",
   "execution_count": null,
   "id": "f115be68-9774-4a16-9710-8380858dd7e6",
   "metadata": {},
   "outputs": [],
   "source": []
  }
 ],
 "metadata": {
  "kernelspec": {
   "display_name": "Python 3 (ipykernel)",
   "language": "python",
   "name": "python3"
  },
  "language_info": {
   "codemirror_mode": {
    "name": "ipython",
    "version": 3
   },
   "file_extension": ".py",
   "mimetype": "text/x-python",
   "name": "python",
   "nbconvert_exporter": "python",
   "pygments_lexer": "ipython3",
   "version": "3.10.8"
  }
 },
 "nbformat": 4,
 "nbformat_minor": 5
}
