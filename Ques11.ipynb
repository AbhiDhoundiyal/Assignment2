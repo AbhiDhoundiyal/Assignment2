{
 "cells": [
  {
   "cell_type": "markdown",
   "id": "8247c1f2-cae7-4380-81b7-9073b996907d",
   "metadata": {},
   "source": [
    "Create a variable named \"is_student\" and assign it a boolean value indicating whether you are\n",
    "currently a student or not."
   ]
  },
  {
   "cell_type": "code",
   "execution_count": 3,
   "id": "3b6dc572-9bbc-45cf-927b-4f3fd26117d3",
   "metadata": {},
   "outputs": [],
   "source": [
    "var = 'is_student'\n"
   ]
  },
  {
   "cell_type": "code",
   "execution_count": null,
   "id": "ea5d2e5a-26c2-4f45-9a34-a675e6383c57",
   "metadata": {},
   "outputs": [],
   "source": []
  }
 ],
 "metadata": {
  "kernelspec": {
   "display_name": "Python 3 (ipykernel)",
   "language": "python",
   "name": "python3"
  },
  "language_info": {
   "codemirror_mode": {
    "name": "ipython",
    "version": 3
   },
   "file_extension": ".py",
   "mimetype": "text/x-python",
   "name": "python",
   "nbconvert_exporter": "python",
   "pygments_lexer": "ipython3",
   "version": "3.10.8"
  }
 },
 "nbformat": 4,
 "nbformat_minor": 5
}
